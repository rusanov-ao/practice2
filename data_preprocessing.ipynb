{
 "cells": [
  {
   "cell_type": "code",
   "id": "initial_id",
   "metadata": {
    "collapsed": true,
    "ExecuteTime": {
     "end_time": "2024-07-26T16:43:36.212051Z",
     "start_time": "2024-07-26T16:43:35.355340Z"
    }
   },
   "source": [
    "# Импорт необходимых библиотек\n",
    "import pandas as pd\n",
    "from sklearn.model_selection import train_test_split\n",
    "from sklearn.preprocessing import StandardScaler\n",
    "\n",
    "# Загрузка наборов данных\n",
    "data_red = pd.read_csv('winequality-red.csv')\n",
    "data_white = pd.read_csv('winequality-white.csv')\n",
    "\n",
    "# Добавление колонки для различия красного и белого вина\n",
    "data_red['type'] = 0  # Красное вино\n",
    "data_white['type'] = 1  # Белое вино\n",
    "\n",
    "# Объединение наборов данных\n",
    "data = pd.concat([data_red, data_white], axis=0)\n",
    "\n",
    "# Разделение признаков и целевой переменной\n",
    "X = data.drop('quality', axis=1)\n",
    "y = data['quality']\n",
    "\n",
    "# Разделение на тренировочную и тестовую выборки\n",
    "X_train, X_test, y_train, y_test = train_test_split(X, y, test_size=0.2, random_state=42)\n",
    "\n",
    "# Стандартизация данных\n",
    "scaler = StandardScaler()\n",
    "X_train_scaled = scaler.fit_transform(X_train)\n",
    "X_test_scaled = scaler.transform(X_test)\n",
    "\n",
    "# Сохранение предобработанных данных\n",
    "pd.DataFrame(X_train_scaled).to_csv('X_train_scaled.csv', index=False)\n",
    "pd.DataFrame(X_test_scaled).to_csv('X_test_scaled.csv', index=False)\n",
    "pd.DataFrame(y_train).to_csv('y_train.csv', index=False)\n",
    "pd.DataFrame(y_test).to_csv('y_test.csv', index=False)\n"
   ],
   "outputs": [],
   "execution_count": 1
  },
  {
   "metadata": {
    "ExecuteTime": {
     "end_time": "2024-07-26T16:43:46.608848Z",
     "start_time": "2024-07-26T16:43:46.605799Z"
    }
   },
   "cell_type": "code",
   "source": "",
   "id": "84147c70288374a9",
   "outputs": [],
   "execution_count": 1
  },
  {
   "metadata": {},
   "cell_type": "code",
   "outputs": [],
   "execution_count": null,
   "source": "",
   "id": "2fdce9730166bb14"
  }
 ],
 "metadata": {
  "kernelspec": {
   "display_name": "Python 3",
   "language": "python",
   "name": "python3"
  },
  "language_info": {
   "codemirror_mode": {
    "name": "ipython",
    "version": 2
   },
   "file_extension": ".py",
   "mimetype": "text/x-python",
   "name": "python",
   "nbconvert_exporter": "python",
   "pygments_lexer": "ipython2",
   "version": "2.7.6"
  }
 },
 "nbformat": 4,
 "nbformat_minor": 5
}
