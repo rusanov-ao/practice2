{
 "cells": [
  {
   "cell_type": "code",
   "id": "initial_id",
   "metadata": {
    "collapsed": true,
    "ExecuteTime": {
     "end_time": "2024-07-26T17:17:51.427255Z",
     "start_time": "2024-07-26T17:17:44.555361Z"
    }
   },
   "source": [
    "# Импорт необходимых библиотек\n",
    "import pandas as pd\n",
    "import tensorflow as tf\n",
    "from tensorflow.keras.models import Sequential\n",
    "from tensorflow.keras.layers import Dense, Dropout\n",
    "from sklearn.metrics import classification_report\n",
    "from pptx import Presentation\n",
    "from pptx.util import Inches\n",
    "\n",
    "# Загрузка предобработанных данных\n",
    "X_train = pd.read_csv('X_train_scaled.csv')\n",
    "X_test = pd.read_csv('X_test_scaled.csv')\n",
    "y_train = pd.read_csv('y_train.csv')\n",
    "y_test = pd.read_csv('y_test.csv')\n",
    "\n",
    "# Создание модели нейронной сети\n",
    "model = Sequential([\n",
    "    Dense(64, activation='relu', input_shape=(X_train.shape[1],)),\n",
    "    Dropout(0.5),\n",
    "    Dense(64, activation='relu'),\n",
    "    Dropout(0.5),\n",
    "    Dense(1, activation='linear')\n",
    "])\n",
    "\n",
    "# Компиляция модели\n",
    "model.compile(optimizer='adam', loss='mean_squared_error')\n",
    "\n",
    "# Обучение модели\n",
    "history = model.fit(X_train, y_train, epochs=50, validation_split=0.2, batch_size=32)\n",
    "\n",
    "# Оценка модели\n",
    "y_pred = model.predict(X_test)\n",
    "report = classification_report(y_test, y_pred.round(), output_dict=True)\n",
    "\n",
    "# Генерация презентации в PowerPoint\n",
    "prs = Presentation()\n",
    "\n",
    "# Слайд 1: Заглавный слайд\n",
    "slide_1 = prs.slides.add_slide(prs.slide_layouts[0])\n",
    "title = slide_1.shapes.title\n",
    "subtitle = slide_1.placeholders[1]\n",
    "title.text = \"Предсказание качества вина\"\n",
    "subtitle.text = \"Сгенерировано моделью глубокого обучения\"\n",
    "\n",
    "# Слайд 2: Результаты модели\n",
    "slide_2 = prs.slides.add_slide(prs.slide_layouts[1])\n",
    "title = slide_2.shapes.title\n",
    "title.text = \"Результаты модели\"\n",
    "\n",
    "# Добавление текста с результатами\n",
    "left = Inches(1)\n",
    "top = Inches(1.5)\n",
    "width = Inches(8.5)\n",
    "height = Inches(5.0)\n",
    "text_box = slide_2.shapes.add_textbox(left, top, width, height)\n",
    "text_frame = text_box.text_frame\n",
    "for key, value in report.items():\n",
    "    p = text_frame.add_paragraph()\n",
    "    p.text = f\"{key}: {value}\"\n",
    "\n",
    "# Сохранение презентации\n",
    "prs.save('Wine_Quality_Prediction_Report.pptx')\n"
   ],
   "outputs": [
    {
     "ename": "ModuleNotFoundError",
     "evalue": "No module named 'pptx'",
     "output_type": "error",
     "traceback": [
      "\u001B[1;31m---------------------------------------------------------------------------\u001B[0m",
      "\u001B[1;31mModuleNotFoundError\u001B[0m                       Traceback (most recent call last)",
      "Cell \u001B[1;32mIn[1], line 7\u001B[0m\n\u001B[0;32m      5\u001B[0m \u001B[38;5;28;01mfrom\u001B[39;00m \u001B[38;5;21;01mtensorflow\u001B[39;00m\u001B[38;5;21;01m.\u001B[39;00m\u001B[38;5;21;01mkeras\u001B[39;00m\u001B[38;5;21;01m.\u001B[39;00m\u001B[38;5;21;01mlayers\u001B[39;00m \u001B[38;5;28;01mimport\u001B[39;00m Dense, Dropout\n\u001B[0;32m      6\u001B[0m \u001B[38;5;28;01mfrom\u001B[39;00m \u001B[38;5;21;01msklearn\u001B[39;00m\u001B[38;5;21;01m.\u001B[39;00m\u001B[38;5;21;01mmetrics\u001B[39;00m \u001B[38;5;28;01mimport\u001B[39;00m classification_report\n\u001B[1;32m----> 7\u001B[0m \u001B[38;5;28;01mfrom\u001B[39;00m \u001B[38;5;21;01mpptx\u001B[39;00m \u001B[38;5;28;01mimport\u001B[39;00m Presentation\n\u001B[0;32m      8\u001B[0m \u001B[38;5;28;01mfrom\u001B[39;00m \u001B[38;5;21;01mpptx\u001B[39;00m\u001B[38;5;21;01m.\u001B[39;00m\u001B[38;5;21;01mutil\u001B[39;00m \u001B[38;5;28;01mimport\u001B[39;00m Inches\n\u001B[0;32m     10\u001B[0m \u001B[38;5;66;03m# Загрузка предобработанных данных\u001B[39;00m\n",
      "\u001B[1;31mModuleNotFoundError\u001B[0m: No module named 'pptx'"
     ]
    }
   ],
   "execution_count": 1
  },
  {
   "metadata": {},
   "cell_type": "code",
   "outputs": [],
   "execution_count": null,
   "source": "",
   "id": "e9dbd8181d9d3824"
  }
 ],
 "metadata": {
  "kernelspec": {
   "display_name": "Python 3",
   "language": "python",
   "name": "python3"
  },
  "language_info": {
   "codemirror_mode": {
    "name": "ipython",
    "version": 2
   },
   "file_extension": ".py",
   "mimetype": "text/x-python",
   "name": "python",
   "nbconvert_exporter": "python",
   "pygments_lexer": "ipython2",
   "version": "2.7.6"
  }
 },
 "nbformat": 4,
 "nbformat_minor": 5
}
